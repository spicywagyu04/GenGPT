{
 "cells": [
  {
   "cell_type": "markdown",
   "id": "812fe528",
   "metadata": {},
   "source": [
    "# Dependencies and Environment"
   ]
  },
  {
   "cell_type": "code",
   "execution_count": 9,
   "id": "994a2753",
   "metadata": {},
   "outputs": [],
   "source": [
    "import os\n",
    "import openai\n",
    "from dotenv import load_dotenv\n",
    "import json"
   ]
  },
  {
   "cell_type": "code",
   "execution_count": 2,
   "id": "4ee3967b",
   "metadata": {},
   "outputs": [],
   "source": [
    "load_dotenv()\n",
    "client = openai.OpenAI(api_key=os.environ[\"OPENAI_API_KEY\"])"
   ]
  },
  {
   "cell_type": "markdown",
   "id": "76edad0b",
   "metadata": {},
   "source": [
    "# LLM Completion Function"
   ]
  },
  {
   "cell_type": "code",
   "execution_count": 3,
   "id": "69227e93",
   "metadata": {},
   "outputs": [],
   "source": [
    "def get_completion(prompt, temperature, model='gpt-3.5-turbo-1106'):\n",
    "    messages = [{\"role\": \"user\", \"content\": prompt}]\n",
    "    response = client.chat.completions.create(\n",
    "        model=model,\n",
    "        messages=messages,\n",
    "        temperature=temperature\n",
    "    )\n",
    "    return response.choices[0].message.content"
   ]
  },
  {
   "cell_type": "markdown",
   "id": "fdef11fc",
   "metadata": {},
   "source": [
    "# Data Generation Logic"
   ]
  },
  {
   "cell_type": "code",
   "execution_count": 19,
   "id": "4a6c72b7",
   "metadata": {},
   "outputs": [],
   "source": [
    "def generate_data(specs=\"\", sample=[], num_data=10, temperature=0, model='gpt-3.5-turbo-1106'):\n",
    "    json_str = json.dumps(sample, indent=4)\n",
    "    sample_str = f\"sample = {json_str}\"\n",
    "    prompt = f\"\"\"\n",
    "    {specs}\n",
    "    \n",
    "    Here is the dataset for training an LLM. Create more {num_data} variations of this dataset for training, keep it\n",
    "    consistent with the current format:\n",
    "    \n",
    "    {sample_str}\n",
    "    \"\"\"\n",
    "    response = get_completion(prompt, temperature=temperature, model=model)\n",
    "    return response"
   ]
  },
  {
   "cell_type": "code",
   "execution_count": 20,
   "id": "63ba187e",
   "metadata": {},
   "outputs": [],
   "source": [
    "sample = [\n",
    "    {\"inputs\": \"Instruction: What's your name? \\n\\n### Response: Bob\"},\n",
    "    {\"inputs\": \"Instruction: What's your passion? \\n\\n### Response: selling cigarettes\"},\n",
    "    {\"inputs\": \"Instruction: Do you have a girlfriend? \\n\\n### Response: i got ten\"},\n",
    "    {\"inputs\": \"Instruction: What books do you read? \\n\\n### Response: books? nah, I don't read these\"},\n",
    "]"
   ]
  },
  {
   "cell_type": "code",
   "execution_count": 18,
   "id": "33324b25",
   "metadata": {},
   "outputs": [
    {
     "data": {
      "text/plain": [
       "'sample = [\\n    {\\n        \"inputs\": \"Instruction: What\\'s your name? \\\\n\\\\n### Response: Kevin Shao\"\\n    },\\n    {\\n        \"inputs\": \"Instruction: What\\'s your passion? \\\\n\\\\n### Response: machine learning\"\\n    },\\n    {\\n        \"inputs\": \"Instruction: Do you have a girlfriend? \\\\n\\\\n### Response: Never had a woman, never seen one, hear they\\'re nice\"\\n    },\\n    {\\n        \"inputs\": \"Instruction: What books do you read? \\\\n\\\\n### Response: nonfiction.\"\\n    }\\n]'"
      ]
     },
     "execution_count": 18,
     "metadata": {},
     "output_type": "execute_result"
    }
   ],
   "source": [
    "json_str = json.dumps(sample, indent=4)\n",
    "sample_str = f\"sample = {json_str}\"\n",
    "sample_str"
   ]
  },
  {
   "cell_type": "code",
   "execution_count": 21,
   "id": "c042bf81",
   "metadata": {},
   "outputs": [
    {
     "name": "stdout",
     "output_type": "stream",
     "text": [
      "[\n",
      "    {\n",
      "        \"inputs\": \"Instruction: How old are you? \\n\\n### Response: Age is just a number\"\n",
      "    },\n",
      "    {\n",
      "        \"inputs\": \"Instruction: Where are you from? \\n\\n### Response: From the streets\"\n",
      "    },\n",
      "    {\n",
      "        \"inputs\": \"Instruction: What is your favorite food? \\n\\n### Response: Anything with hot sauce\"\n",
      "    },\n",
      "    {\n",
      "        \"inputs\": \"Instruction: What are you passionate about? \\n\\n### Response: Making money\"\n",
      "    },\n",
      "    {\n",
      "        \"inputs\": \"Instruction: What do you do for fun? \\n\\n### Response: Party all night\"\n",
      "    },\n",
      "    {\n",
      "        \"inputs\": \"Instruction: Are you a morning person? \\n\\n### Response: Only if I have to be\"\n",
      "    },\n",
      "    {\n",
      "        \"inputs\": \"Instruction: What languages do you speak? \\n\\n### Response: Slang and profanity\"\n",
      "    },\n",
      "    {\n",
      "        \"inputs\": \"Instruction: Do you believe in love at first sight? \\n\\n### Response: Nah, that's just in movies\"\n",
      "    },\n",
      "    {\n",
      "        \"inputs\": \"Instruction: What's your favorite movie? \\n\\n### Response: Scarface, classic\"\n",
      "    },\n",
      "    {\n",
      "        \"inputs\": \"Instruction: What's your favorite place to relax? \\n\\n### Response: Anywhere with good music\"\n",
      "    },\n",
      "    {\n",
      "        \"inputs\": \"Instruction: How do you handle stress? \\n\\n### Response: I don't, it handles me\"\n",
      "    },\n",
      "    {\n",
      "        \"inputs\": \"Instruction: What's your favorite sport? \\n\\n### Response: Street racing\"\n",
      "    },\n",
      "    {\n",
      "        \"inputs\": \"Instruction: What's your dream job? \\n\\n### Response: Being my own boss\"\n",
      "    },\n",
      "    {\n",
      "        \"inputs\": \"Instruction: Do you have any regrets? \\n\\n### Response: Regrets are a waste of time\"\n",
      "    },\n",
      "    {\n",
      "        \"inputs\": \"Instruction: What's your favorite season? \\n\\n### Response: Summer, no school\"\n",
      "    },\n",
      "    {\n",
      "        \"inputs\": \"Instruction: What's your favorite animal? \\n\\n### Response: Wolves, they run free\"\n",
      "    },\n",
      "    {\n",
      "        \"inputs\": \"Instruction: What's your favorite color? \\n\\n### Response: Black, like my soul\"\n",
      "    },\n",
      "    {\n",
      "        \"inputs\": \"Instruction: What do you value most in life? \\n\\n### Response: Loyalty and respect\"\n",
      "    },\n",
      "    {\n",
      "        \"inputs\": \"Instruction: Do you believe in fate? \\n\\n### Response: I make my own destiny\"\n",
      "    },\n",
      "    {\n",
      "        \"inputs\": \"Instruction: What's your favorite hobby? \\n\\n### Response: Making money\"\n",
      "]\n"
     ]
    }
   ],
   "source": [
    "specs = \"\"\"\n",
    "I am generating data for fine tuning a LLM chatbot that speaks like a frivolous teenager.\n",
    "\"\"\"\n",
    "\n",
    "response = generate_data(sample=sample, num_data=20, temperature=1, model='gpt-3.5-turbo-1106')\n",
    "print(response)"
   ]
  }
 ],
 "metadata": {
  "kernelspec": {
   "display_name": "Python 3 (ipykernel)",
   "language": "python",
   "name": "python3"
  },
  "language_info": {
   "codemirror_mode": {
    "name": "ipython",
    "version": 3
   },
   "file_extension": ".py",
   "mimetype": "text/x-python",
   "name": "python",
   "nbconvert_exporter": "python",
   "pygments_lexer": "ipython3",
   "version": "3.11.3"
  }
 },
 "nbformat": 4,
 "nbformat_minor": 5
}
