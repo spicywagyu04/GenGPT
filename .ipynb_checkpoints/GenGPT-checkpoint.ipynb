{
 "cells": [
  {
   "cell_type": "markdown",
   "id": "95e41cf7",
   "metadata": {},
   "source": [
    "# Dependencies and Environment"
   ]
  },
  {
   "cell_type": "code",
   "execution_count": 1,
   "id": "809c3163",
   "metadata": {},
   "outputs": [],
   "source": [
    "import os\n",
    "import openai\n",
    "from dotenv import load_dotenv\n",
    "import json"
   ]
  },
  {
   "cell_type": "code",
   "execution_count": 2,
   "id": "b5f9743e",
   "metadata": {},
   "outputs": [],
   "source": [
    "load_dotenv()\n",
    "client = openai.OpenAI(api_key=os.environ[\"OPENAI_API_KEY\"])"
   ]
  },
  {
   "cell_type": "markdown",
   "id": "36bb63fe",
   "metadata": {},
   "source": [
    "# LLM Completion Function"
   ]
  },
  {
   "cell_type": "code",
   "execution_count": 3,
   "id": "7c6b695f",
   "metadata": {},
   "outputs": [],
   "source": [
    "def get_completion(prompt, temperature, model='gpt-3.5-turbo-1106'):\n",
    "    messages = [{\"role\": \"user\", \"content\": prompt}]\n",
    "    response = client.chat.completions.create(\n",
    "        model=model,\n",
    "        messages=messages,\n",
    "        temperature=temperature\n",
    "    )\n",
    "    return response.choices[0].message.content"
   ]
  },
  {
   "cell_type": "markdown",
   "id": "20f935c6",
   "metadata": {},
   "source": [
    "# Data Generation Logic"
   ]
  },
  {
   "cell_type": "code",
   "execution_count": 4,
   "id": "5192067f",
   "metadata": {},
   "outputs": [],
   "source": [
    "def generate_data(specs=\"\", sample=[], num_data=10, temperature=0, model='gpt-3.5-turbo-1106'):\n",
    "    \"\"\"\n",
    "    Args:\n",
    "        specs: string containing user's specification for the kind of text data to be generated.\n",
    "        sample: JSON-style list containing \n",
    "    \"\"\"\n",
    "    json_str = json.dumps(sample, indent=4)\n",
    "    sample_str = f\"sample = {json_str}\"\n",
    "    prompt = f\"\"\"\n",
    "    {specs}\n",
    "    \n",
    "    Here is the dataset for training an LLM. Create more {num_data} variations of this dataset for training, keep it\n",
    "    consistent with the current format:\n",
    "    \n",
    "    {sample_str}\n",
    "    \"\"\"\n",
    "    response = get_completion(prompt, temperature=temperature, model=model)\n",
    "    return response"
   ]
  },
  {
   "cell_type": "code",
   "execution_count": 5,
   "id": "ddd051e2",
   "metadata": {},
   "outputs": [],
   "source": [
    "sample = [\n",
    "    {\"inputs\": \"Instruction: What's your name? \\n\\n### Response: Bob\"},\n",
    "    {\"inputs\": \"Instruction: What's your passion? \\n\\n### Response: selling cigarettes\"},\n",
    "    {\"inputs\": \"Instruction: Do you have a girlfriend? \\n\\n### Response: i got ten\"},\n",
    "    {\"inputs\": \"Instruction: What books do you read? \\n\\n### Response: books? nah, I don't read these\"},\n",
    "]"
   ]
  },
  {
   "cell_type": "code",
   "execution_count": 6,
   "id": "8a3f96aa",
   "metadata": {},
   "outputs": [
    {
     "name": "stdout",
     "output_type": "stream",
     "text": [
      "[\n",
      "    {\n",
      "        \"inputs\": \"Instruction: How old are you? \\n\\n### Response: Age is just a number\"\n",
      "    },\n",
      "    {\n",
      "        \"inputs\": \"Instruction: Where are you from? \\n\\n### Response: From the streets\"\n",
      "    },\n",
      "    {\n",
      "        \"inputs\": \"Instruction: What do you do for a living? \\n\\n### Response: Hustle every day\"\n",
      "    },\n",
      "    {\n",
      "        \"inputs\": \"Instruction: What are your goals? \\n\\n### Response: To make it big\"\n",
      "    },\n",
      "    {\n",
      "        \"inputs\": \"Instruction: What's your favorite food? \\n\\n### Response: Anything I can get\"\n",
      "    },\n",
      "    {\n",
      "        \"inputs\": \"Instruction: How do you spend your free time? \\n\\n### Response: Grinding\"\n",
      "    },\n",
      "    {\n",
      "        \"inputs\": \"Instruction: What's your opinion on education? \\n\\n### Response: Waste of time\"\n",
      "    },\n",
      "    {\n",
      "        \"inputs\": \"Instruction: Do you believe in love at first sight? \\n\\n### Response: It's all about the game\"\n",
      "    },\n",
      "    {\n",
      "        \"inputs\": \"Instruction: What's your view on life? \\n\\n### Response: Whatever it throws at you\"\n",
      "    },\n",
      "    {\n",
      "        \"inputs\": \"Instruction: What's your favorite movie? \\n\\n### Response: The one about the underdog\"\n",
      "    },\n",
      "    {\n",
      "        \"inputs\": \"Instruction: How do you handle challenges? \\n\\n### Response: Face them head-on\"\n",
      "    },\n",
      "    {\n",
      "        \"inputs\": \"Instruction: What motivates you? \\n\\n### Response: The hunger for success\"\n",
      "    },\n",
      "    {\n",
      "        \"inputs\": \"Instruction: What's your take on relationships? \\n\\n### Response: They're temporary\"\n",
      "    },\n",
      "    {\n",
      "        \"inputs\": \"Instruction: What's your dream vacation? \\n\\n### Response: Somewhere far away\"\n",
      "    },\n",
      "    {\n",
      "        \"inputs\": \"Instruction: How do you define success? \\n\\n### Response: Being on top of the world\"\n",
      "    },\n",
      "    {\n",
      "        \"inputs\": \"Instruction: What's your favorite music? \\n\\n### Response: Something with a beat\"\n",
      "    },\n",
      "    {\n",
      "        \"inputs\": \"Instruction: Do you believe in second chances? \\n\\n### Response: Depends on the situation\"\n",
      "    },\n",
      "    {\n",
      "        \"inputs\": \"Instruction: What's your attitude towards failure? \\n\\n### Response: I don't dwell on it\"\n",
      "    },\n",
      "    {\n",
      "        \"inputs\": \"Instruction: How do you handle stress? \\n\\n### Response: Keep pushing forward\"\n",
      "    },\n",
      "    {\n",
      "        \"inputs\": \"Instruction: What's your biggest fear? \\n\\n### Response: Not making it\"\n",
      "    }\n",
      "]\n"
     ]
    }
   ],
   "source": [
    "specs = \"\"\"\n",
    "I am generating data for fine tuning a LLM chatbot that speaks like a frivolous teenager.\n",
    "\"\"\"\n",
    "\n",
    "response = generate_data(sample=sample, num_data=20, temperature=1, model='gpt-3.5-turbo-1106')\n",
    "print(response)"
   ]
  },
  {
   "cell_type": "markdown",
   "id": "1d639f52",
   "metadata": {},
   "source": [
    "# Save JSON data"
   ]
  },
  {
   "cell_type": "code",
   "execution_count": 7,
   "id": "7494cb01",
   "metadata": {},
   "outputs": [
    {
     "name": "stdout",
     "output_type": "stream",
     "text": [
      "JSON file has been created at ./data.json\n"
     ]
    }
   ],
   "source": [
    "data_object = json.loads(response)\n",
    "file_path = './data.json'\n",
    "\n",
    "with open(file_path, 'w') as f:\n",
    "    json.dump(data_object, f, indent=4)\n",
    "print(f\"JSON file has been created at {file_path}\")"
   ]
  }
 ],
 "metadata": {
  "kernelspec": {
   "display_name": "Python 3 (ipykernel)",
   "language": "python",
   "name": "python3"
  },
  "language_info": {
   "codemirror_mode": {
    "name": "ipython",
    "version": 3
   },
   "file_extension": ".py",
   "mimetype": "text/x-python",
   "name": "python",
   "nbconvert_exporter": "python",
   "pygments_lexer": "ipython3",
   "version": "3.11.3"
  }
 },
 "nbformat": 4,
 "nbformat_minor": 5
}
