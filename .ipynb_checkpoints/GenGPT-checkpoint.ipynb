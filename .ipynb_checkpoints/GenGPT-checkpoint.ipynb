{
 "cells": [
  {
   "cell_type": "markdown",
   "id": "95e41cf7",
   "metadata": {},
   "source": [
    "# Dependencies and Environment"
   ]
  },
  {
   "cell_type": "code",
   "execution_count": 1,
   "id": "809c3163",
   "metadata": {},
   "outputs": [],
   "source": [
    "import os\n",
    "import openai\n",
    "from dotenv import load_dotenv\n",
    "import json"
   ]
  },
  {
   "cell_type": "code",
   "execution_count": 2,
   "id": "b5f9743e",
   "metadata": {},
   "outputs": [],
   "source": [
    "load_dotenv()\n",
    "client = openai.OpenAI(api_key=os.environ[\"OPENAI_API_KEY\"])"
   ]
  },
  {
   "cell_type": "markdown",
   "id": "36bb63fe",
   "metadata": {},
   "source": [
    "# LLM Completion Function"
   ]
  },
  {
   "cell_type": "code",
   "execution_count": 3,
   "id": "7c6b695f",
   "metadata": {},
   "outputs": [],
   "source": [
    "def get_completion(prompt, temperature, model='gpt-3.5-turbo-1106'):\n",
    "    \"\"\"\n",
    "    Returns a text completion from OPENAI LLM based on user prompt.\n",
    "    \n",
    "    Args:\n",
    "        prompt: string containing user instructions\n",
    "        temperature: a parameter between 0 and 1 for controlling LLM's creativity in generating new data\n",
    "        model: a string of model type, currently only supports OPENAI models\n",
    "    \"\"\"\n",
    "    messages = [{\"role\": \"user\", \"content\": prompt}]\n",
    "    response = client.chat.completions.create(\n",
    "        model=model,\n",
    "        messages=messages,\n",
    "        temperature=temperature\n",
    "    )\n",
    "    return response.choices[0].message.content"
   ]
  },
  {
   "cell_type": "markdown",
   "id": "20f935c6",
   "metadata": {},
   "source": [
    "# Data Generation Logic"
   ]
  },
  {
   "cell_type": "code",
   "execution_count": 16,
   "id": "5192067f",
   "metadata": {},
   "outputs": [],
   "source": [
    "def generate_data(specs=\"\", sample=[], num_data=10, temperature=0, model='gpt-3.5-turbo-1106'):\n",
    "    \"\"\"\n",
    "    Creates a JSON file of generated data.\n",
    "    \n",
    "    Args:\n",
    "        specs: string containing user's specification for the kind of text data to be generated\n",
    "        sample: list containing JSON-style elements of data samples user wants the LLM to generate\n",
    "        num_data: number of data to be generated\n",
    "        temperature: a parameter between 0 and 1 for controlling LLM's creativity in generating new data\n",
    "        model: a string of model type, currently only supports OPENAI models\n",
    "    \"\"\"\n",
    "    # Convert JSON samples to string that can be placed in prompt\n",
    "    json_str = json.dumps(sample, indent=4)\n",
    "    sample_str = f\"sample = {json_str}\"\n",
    "    \n",
    "    # Define data generation loop parameters\n",
    "    iterations = num_data // 20\n",
    "    remaining_gen = num_data % 20\n",
    "    one_time_gen_count = num_data\n",
    "    \n",
    "    # list of JSON-style data\n",
    "    data_list = []\n",
    "    \n",
    "    if num_data >= 20:\n",
    "        one_time_gen_count = 20\n",
    "    \n",
    "    for counter in range(iterations):\n",
    "        # Define prompt\n",
    "        print(f'Generating batch {counter + 1} of data')\n",
    "        prompt = f\"\"\"\n",
    "        {specs}\n",
    "\n",
    "        Here is the dataset for training an LLM. Create {one_time_gen_count} variations of this dataset for training, keep it\n",
    "        consistent with the current format:\n",
    "\n",
    "\n",
    "        {sample_str}\n",
    "\n",
    "\n",
    "        Make sure to produce a string of a list of valid JSON elements enclosed inside a list. Each JSON element must be \n",
    "        followed by a comma delimiter.\n",
    "        \"\"\"\n",
    "        response = get_completion(prompt, temperature=temperature, model=model)\n",
    "        lst = json.loads(response)\n",
    "        data_list += lst\n",
    "        print(f'Generated {(counter + 1) * 20}/{num_data} data...')\n",
    "        \n",
    "    if remaining_gen > 0:\n",
    "        # Define prompt\n",
    "        prompt = f\"\"\"\n",
    "        {specs}\n",
    "\n",
    "        Here is the dataset for training an LLM. Create {remaining_gen} variations of this dataset for training, keep it\n",
    "        consistent with the current format:\n",
    "\n",
    "\n",
    "        {sample_str}\n",
    "\n",
    "\n",
    "        Make sure to produce a string of a list of valid JSON elements. Remember to close each JSON elements with {{ and \n",
    "        }}\n",
    "        \"\"\"\n",
    "        response = get_completion(prompt, temperature=temperature, model=model)\n",
    "        lst = json.loads(response)\n",
    "        data_list += lst\n",
    "\n",
    "    print(f'Finished generating')\n",
    "    \n",
    "    # Save to JSON file\n",
    "    file_path = './data.json'\n",
    "\n",
    "    with open(file_path, 'w') as f:\n",
    "        json.dump(data_list, f, indent=4)\n",
    "    print(f\"JSON file has been created at {file_path}\")"
   ]
  },
  {
   "cell_type": "code",
   "execution_count": 17,
   "id": "cb39d94e",
   "metadata": {},
   "outputs": [
    {
     "name": "stdout",
     "output_type": "stream",
     "text": [
      "Generating batch 1 of data\n",
      "Generated 20/50...\n",
      "Generating batch 2 of data\n",
      "Generated 40/50...\n",
      "Finished generating\n",
      "JSON file has been created at ./data.json\n"
     ]
    }
   ],
   "source": [
    "sample = [\n",
    "    {\"inputs\": \"Instruction: What's your name? \\n\\n### Response: Bob\"},\n",
    "    {\"inputs\": \"Instruction: What's your passion? \\n\\n### Response: selling cigarettes\"},\n",
    "    {\"inputs\": \"Instruction: Do you have a girlfriend? \\n\\n### Response: i got ten\"},\n",
    "    {\"inputs\": \"Instruction: What books do you read? \\n\\n### Response: books? nah, I don't read these\"},\n",
    "]\n",
    "\n",
    "specs = \"\"\"\n",
    "I am generating data for fine tuning a LLM chatbot that speaks like a frivolous teenager.\n",
    "\"\"\"\n",
    "\n",
    "generate_data(specs=specs, sample=sample, num_data=50, temperature=1, model='gpt-3.5-turbo-1106')"
   ]
  }
 ],
 "metadata": {
  "kernelspec": {
   "display_name": "Python 3 (ipykernel)",
   "language": "python",
   "name": "python3"
  },
  "language_info": {
   "codemirror_mode": {
    "name": "ipython",
    "version": 3
   },
   "file_extension": ".py",
   "mimetype": "text/x-python",
   "name": "python",
   "nbconvert_exporter": "python",
   "pygments_lexer": "ipython3",
   "version": "3.11.3"
  }
 },
 "nbformat": 4,
 "nbformat_minor": 5
}
